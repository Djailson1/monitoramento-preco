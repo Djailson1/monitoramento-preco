{
 "cells": [
  {
   "cell_type": "code",
   "execution_count": 6,
   "id": "797857af-0705-477d-a8f2-34f610ae1451",
   "metadata": {},
   "outputs": [
    {
     "name": "stdout",
     "output_type": "stream",
     "text": [
      "Previsao do tempo para Belo jardim:\n",
      "Temperatura: 17.71°C\n",
      "Descrição: Céu limpo\n",
      "Umidade: 89\n",
      "Vento:  2.15m/s\n"
     ]
    }
   ],
   "source": [
    "# Importa a biblioteca 'requests' para fazer requisições HTTP\n",
    "import requests\n",
    "\n",
    "# Define a função 'coletar_previsao_tempo' que recebe como argumento o nome da cidade\n",
    "def coletar_previsao_tempo(cidade):\n",
    "    # Define a chave da API fornecida pelo OpenWeatherMap\n",
    "    api_key = \"b724549326573ed4db6fb8ade375aaf8\"\n",
    "    \n",
    "    # Constrói a URL da API, incluindo a cidade, chave da API, unidades em Celsius e idioma em português\n",
    "    url = f\"https://api.openweathermap.org/data/2.5/weather?q={cidade}&appid={api_key}&units=metric&lang=pt_br\"\n",
    "    \n",
    "    # Faz uma requisição GET à API e armazena a resposta na variável 'resposta'\n",
    "    resposta = requests.get(url)\n",
    "    \n",
    "    # Converte a resposta da API para um formato JSON para facilitar o acesso aos dados\n",
    "    dados = resposta.json()\n",
    "\n",
    "    # Verifica se a requisição foi bem-sucedida (código de status 200)\n",
    "    if resposta.status_code == 200:\n",
    "        # Acessa a temperatura da cidade a partir dos dados JSON retornados\n",
    "        temperatura = dados['main']['temp']\n",
    "        \n",
    "        # Acessa a descrição do tempo a partir dos dados JSON retornados\n",
    "        descricao = dados['weather'][0]['description']\n",
    "        \n",
    "        # Acessa a umidade do ar a partir dos dados JSON retornados\n",
    "        umidade = dados['main']['humidity']\n",
    "        \n",
    "        # Acessa a velocidade do vento a partir dos dados JSON retornados\n",
    "        vento = dados['wind']['speed']\n",
    "\n",
    "        # Exibe a previsão do tempo formatada com os dados obtidos da cidade\n",
    "        print(f\"Previsao do tempo para {cidade.capitalize()}:\")\n",
    "        print(f\"Temperatura: {temperatura}°C\")\n",
    "        print(f\"Descrição: {descricao.capitalize()}\")\n",
    "        print(f\"Umidade: {umidade}\")\n",
    "        print(f\"Vento:  {vento}m/s\")\n",
    "\n",
    "    else:\n",
    "        # Exibe uma mensagem de erro caso a resposta da API não seja bem-sucedida\n",
    "        print(\"Erro ao obter dados da API. Verifique o nome da cidade ou sua chave API.\")\n",
    "\n",
    "# Define o nome da cidade para a qual se deseja obter a previsão do tempo\n",
    "cidade = \"Belo Jardim\"\n",
    "\n",
    "# Chama a função 'coletar_previsao_tempo' com o nome da cidade fornecida\n",
    "coletar_previsao_tempo(cidade)\n"
   ]
  },
  {
   "cell_type": "code",
   "execution_count": null,
   "id": "986de189-e522-4080-8c28-ec969fe0e571",
   "metadata": {},
   "outputs": [],
   "source": []
  }
 ],
 "metadata": {
  "kernelspec": {
   "display_name": "Python 3 (ipykernel)",
   "language": "python",
   "name": "python3"
  },
  "language_info": {
   "codemirror_mode": {
    "name": "ipython",
    "version": 3
   },
   "file_extension": ".py",
   "mimetype": "text/x-python",
   "name": "python",
   "nbconvert_exporter": "python",
   "pygments_lexer": "ipython3",
   "version": "3.12.4"
  }
 },
 "nbformat": 4,
 "nbformat_minor": 5
}
