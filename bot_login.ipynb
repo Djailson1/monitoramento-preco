{
 "cells": [
  {
   "cell_type": "code",
   "execution_count": 6,
   "id": "a15c0f54-9810-4e28-ba48-0fcab4700fa9",
   "metadata": {},
   "outputs": [
    {
     "name": "stdout",
     "output_type": "stream",
     "text": [
      "Login realizado com sucesso!\n",
      "Produto: Sauce Labs Backpack, Preço: $29.99\n",
      "Produto: Sauce Labs Bike Light, Preço: $9.99\n",
      "Produto: Sauce Labs Bolt T-Shirt, Preço: $15.99\n",
      "Produto: Sauce Labs Fleece Jacket, Preço: $49.99\n",
      "Produto: Sauce Labs Onesie, Preço: $7.99\n",
      "Produto: Test.allTheThings() T-Shirt (Red), Preço: $15.99\n"
     ]
    }
   ],
   "source": [
    "from selenium import webdriver\n",
    "from selenium.webdriver.common.by import By\n",
    "from selenium.webdriver.chrome.service import Service\n",
    "from webdriver_manager.chrome import ChromeDriverManager\n",
    "import time\n",
    "\n",
    "# Configurando o serviço do ChromeDriver\n",
    "service = Service(ChromeDriverManager().install())\n",
    "driver = webdriver.Chrome(service=service)\n",
    "\n",
    "# Acessa o site\n",
    "driver.get(\"https://www.saucedemo.com/\")\n",
    "time.sleep(2)\n",
    "\n",
    "# Localiza e insere usuário e senha\n",
    "username_field = driver.find_element(By.ID, \"user-name\")\n",
    "password_field = driver.find_element(By.ID, \"password\")\n",
    "\n",
    "username_field.send_keys(\"standard_user\")\n",
    "password_field.send_keys(\"secret_sauce\")\n",
    "\n",
    "# Clica no botão de login\n",
    "login_button = driver.find_element(By.ID, \"login-button\")\n",
    "login_button.click()\n",
    "time.sleep(3)\n",
    "\n",
    "# Verifica se o login foi bem-sucedido\n",
    "if \"inventory\" in driver.current_url:\n",
    "    print(\"Login realizado com sucesso!\")\n",
    "    \n",
    "    # Captura e exibe informações de produtos e preços\n",
    "    products = driver.find_elements(By.CLASS_NAME, \"inventory_item\")\n",
    "    for product in products:\n",
    "        name = product.find_element(By.CLASS_NAME, \"inventory_item_name\").text\n",
    "        price = product.find_element(By.CLASS_NAME, \"inventory_item_price\").text\n",
    "        print(f\"Produto: {name}, Preço: {price}\")\n",
    "\n",
    "else:\n",
    "    print(\"Falha no login\")\n",
    "\n",
    "# Encerra o driver\n",
    "driver.quit()\n"
   ]
  },
  {
   "cell_type": "code",
   "execution_count": null,
   "id": "5d2a8766-75ea-49cb-acd0-48e128785ecb",
   "metadata": {},
   "outputs": [],
   "source": []
  }
 ],
 "metadata": {
  "kernelspec": {
   "display_name": "Python 3 (ipykernel)",
   "language": "python",
   "name": "python3"
  },
  "language_info": {
   "codemirror_mode": {
    "name": "ipython",
    "version": 3
   },
   "file_extension": ".py",
   "mimetype": "text/x-python",
   "name": "python",
   "nbconvert_exporter": "python",
   "pygments_lexer": "ipython3",
   "version": "3.12.4"
  }
 },
 "nbformat": 4,
 "nbformat_minor": 5
}
