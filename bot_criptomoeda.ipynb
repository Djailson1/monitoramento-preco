{
 "cells": [
  {
   "cell_type": "code",
   "execution_count": null,
   "id": "52e32034-9363-48b5-86d9-975f1bfa2858",
   "metadata": {},
   "outputs": [
    {
     "name": "stdout",
     "output_type": "stream",
     "text": [
      "Preço inicial do Bitcoin em USD: 75426\n",
      "Preço atual: 75426 USD, Variação: 0.00%\n",
      "Preço atual: 75329 USD, Variação: -0.13%\n",
      "Preço atual: 75329 USD, Variação: 0.00%\n",
      "Preço atual: 75329 USD, Variação: 0.00%\n",
      "Preço atual: 75329 USD, Variação: 0.00%\n",
      "Preço atual: 75329 USD, Variação: 0.00%\n",
      "Preço atual: 75329 USD, Variação: 0.00%\n",
      "Preço atual: 75422 USD, Variação: 0.12%\n",
      "Preço atual: 75422 USD, Variação: 0.00%\n",
      "Preço atual: 75422 USD, Variação: 0.00%\n",
      "Preço atual: 75422 USD, Variação: 0.00%\n",
      "Preço atual: 75370 USD, Variação: -0.07%\n"
     ]
    }
   ],
   "source": [
    "#Bot que alerta sobre a variação do preço do Bitcoin\n",
    "import requests  # Importa a biblioteca requests, que permite fazer requisições HTTP.\n",
    "import time      # Importa a biblioteca time, que oferece funcionalidades para pausas e controle de tempo.\n",
    "\n",
    "# Define a função get_crypto_price para obter o preço atual de uma criptomoeda específica.\n",
    "def get_crypto_price(crypto_id=\"bitcoin\", currency=\"usd\"):\n",
    "    # Constrói a URL da API CoinGecko com o ID da criptomoeda e a moeda de conversão.\n",
    "    url = f\"https://api.coingecko.com/api/v3/simple/price?ids={crypto_id}&vs_currencies={currency}\"\n",
    "    \n",
    "    # Faz uma requisição GET para a API da CoinGecko e armazena a resposta na variável 'response'.\n",
    "    response = requests.get(url)\n",
    "    \n",
    "    # Converte a resposta em JSON e armazena o conteúdo na variável 'data'.\n",
    "    data = response.json()\n",
    "    \n",
    "    # Retorna o preço da criptomoeda na moeda especificada. Exemplo: data[\"bitcoin\"][\"usd\"].\n",
    "    return data[crypto_id][currency]\n",
    "\n",
    "# Define a criptomoeda que será monitorada e a moeda de conversão.\n",
    "crypto_id = \"bitcoin\"\n",
    "currency = \"usd\"\n",
    "\n",
    "# Define o intervalo de tempo (em segundos) entre cada atualização de preço.\n",
    "intervalo = 60\n",
    "\n",
    "# Chama a função get_crypto_price para obter o preço inicial da criptomoeda.\n",
    "ultimo_preco = get_crypto_price(crypto_id, currency)\n",
    "\n",
    "# Imprime o preço inicial da criptomoeda no terminal.\n",
    "print(f\"Preço inicial do {crypto_id.capitalize()} em {currency.upper()}: {ultimo_preco}\")\n",
    "\n",
    "# Inicia um loop infinito para monitorar o preço continuamente.\n",
    "while True:\n",
    "    # Aguarda o intervalo definido antes de fazer a próxima requisição.\n",
    "    time.sleep(intervalo)\n",
    "    \n",
    "    # Obtém o preço atual da criptomoeda chamando novamente a função get_crypto_price.\n",
    "    preco_atual = get_crypto_price(crypto_id, currency)\n",
    "    \n",
    "    # Calcula a variação percentual do preço em relação ao último preço registrado.\n",
    "    variacao = ((preco_atual - ultimo_preco) / ultimo_preco) * 100\n",
    "    \n",
    "    # Imprime o preço atual e a variação percentual no terminal.\n",
    "    print(f\"Preço atual: {preco_atual} {currency.upper()}, Variação: {variacao:.2f}%\")\n",
    "    \n",
    "    # Atualiza 'ultimo_preco' com o 'preco_atual' para que a próxima iteração tenha o último valor.\n",
    "    ultimo_preco = preco_atual\n",
    "\n",
    "\n"
   ]
  },
  {
   "cell_type": "code",
   "execution_count": null,
   "id": "ea94a20f-d01b-4576-8336-861b5d4431b1",
   "metadata": {},
   "outputs": [],
   "source": []
  }
 ],
 "metadata": {
  "kernelspec": {
   "display_name": "Python 3 (ipykernel)",
   "language": "python",
   "name": "python3"
  },
  "language_info": {
   "codemirror_mode": {
    "name": "ipython",
    "version": 3
   },
   "file_extension": ".py",
   "mimetype": "text/x-python",
   "name": "python",
   "nbconvert_exporter": "python",
   "pygments_lexer": "ipython3",
   "version": "3.12.4"
  }
 },
 "nbformat": 4,
 "nbformat_minor": 5
}
