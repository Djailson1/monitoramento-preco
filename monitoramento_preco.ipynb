{
 "cells": [
  {
   "cell_type": "code",
   "execution_count": 6,
   "id": "e1215034-93b1-4d78-ba10-714858b042dd",
   "metadata": {},
   "outputs": [
    {
     "name": "stdout",
     "output_type": "stream",
     "text": [
      "Elemento de preço encontrado: R$ 69,90\n",
      "Preço atual: R$69.90 acima do desejado ainda.\n"
     ]
    }
   ],
   "source": [
    "# Este código monitora o preço de um produto em uma página web específica.\n",
    "# Ele verifica periodicamente o preço e compara com um valor desejado.\n",
    "# Se o preço atual for menor ou igual ao preço desejado, ele informa que o preço foi alcançado;\n",
    "# caso contrário, ele informa que o preço atual está acima do desejado.\n",
    "\n",
    "import requests  # Importa a biblioteca para fazer requisições HTTP\n",
    "from bs4 import BeautifulSoup  # Importa BeautifulSoup para analisar o HTML\n",
    "import time  # Importa a biblioteca time para gerenciar intervalos de tempo entre verificações\n",
    "\n",
    "# URL do produto a ser monitorado\n",
    "url = 'https://www.youcom.com.br/blusa-mini-tee-estampa-georgia-p1142914?tsid=19&pp=/44.1399/'\n",
    "\n",
    "# Define o preço desejado para notificação\n",
    "preco_desejado = 68\n",
    "\n",
    "# Função que verifica o preço do produto\n",
    "def verificar_preco():\n",
    "    # Cabeçalho da requisição, especificando o User-Agent para simular um navegador\n",
    "    headers = {\n",
    "        'User-Agent': 'Mozilla/5.0 (Windows NT 10.0; Win64; x64) AppleWebKit/537.36 (KHTML, like Gecko) Chrome/107.0.0.0 Safari/537.36'\n",
    "    }\n",
    "    \n",
    "    # Faz a requisição HTTP para obter o conteúdo da página\n",
    "    response = requests.get(url, headers=headers)\n",
    "    \n",
    "    # Cria um objeto BeautifulSoup para analisar o conteúdo HTML\n",
    "    soup = BeautifulSoup(response.content, 'html.parser')\n",
    "    \n",
    "    # Procura o elemento que contém o preço pelo seletor de classe\n",
    "    preco_elemento = soup.find('span', {'class': 'mb-sm text-l font-bold'})\n",
    "\n",
    "    # Verifica se o elemento de preço foi encontrado\n",
    "    if preco_elemento:\n",
    "        # Extrai o texto do elemento de preço e remove espaços extras\n",
    "        preco_texto = preco_elemento.get_text().strip()\n",
    "        \n",
    "        # Exibe o preço encontrado no formato desejado\n",
    "        print(f\"Elemento de preço encontrado: {preco_texto}\")\n",
    "        \n",
    "        # Tenta converter o texto do preço para um número float\n",
    "        try:\n",
    "            # Remove o símbolo de moeda, substitui vírgula por ponto e converte para float\n",
    "            preco = float(preco_texto.replace('R$', '').replace('.', '').replace(',', '.').strip())\n",
    "            \n",
    "            # Compara o preço atual com o preço desejado\n",
    "            if preco <= preco_desejado:\n",
    "                # Exibe mensagem indicando que o preço desejado foi alcançado\n",
    "                print(f\"Preço alcançado: R${preco:.2f}!\")\n",
    "            else:\n",
    "                # Exibe o preço atual se estiver acima do preço desejado\n",
    "                print(f\"Preço atual: R${preco:.2f} acima do desejado ainda.\")\n",
    "        except ValueError:\n",
    "            # Caso ocorra um erro ao converter o preço para float, exibe uma mensagem de erro\n",
    "            print(\"Erro ao converter o preço para float. Verifique o formato do texto:\", preco_texto)\n",
    "    else:\n",
    "        # Caso o elemento de preço não seja encontrado, exibe uma mensagem de erro\n",
    "        print(\"Não foi possível localizar o preço.\")\n",
    "\n",
    "# Executa a função uma vez para teste\n",
    "verificar_preco()\n"
   ]
  },
  {
   "cell_type": "code",
   "execution_count": null,
   "id": "8b080943-9162-4d3a-84f1-f6b5e74d14ef",
   "metadata": {},
   "outputs": [],
   "source": []
  }
 ],
 "metadata": {
  "kernelspec": {
   "display_name": "Python 3 (ipykernel)",
   "language": "python",
   "name": "python3"
  },
  "language_info": {
   "codemirror_mode": {
    "name": "ipython",
    "version": 3
   },
   "file_extension": ".py",
   "mimetype": "text/x-python",
   "name": "python",
   "nbconvert_exporter": "python",
   "pygments_lexer": "ipython3",
   "version": "3.12.4"
  }
 },
 "nbformat": 4,
 "nbformat_minor": 5
}
